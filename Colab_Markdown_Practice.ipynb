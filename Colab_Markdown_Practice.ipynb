{
  "nbformat": 4,
  "nbformat_minor": 0,
  "metadata": {
    "colab": {
      "name": "Colab_Markdown_Practice.ipynb",
      "provenance": [],
      "include_colab_link": true
    },
    "kernelspec": {
      "name": "python3",
      "display_name": "Python 3"
    },
    "language_info": {
      "name": "python"
    }
  },
  "cells": [
    {
      "cell_type": "markdown",
      "metadata": {
        "id": "view-in-github",
        "colab_type": "text"
      },
      "source": [
        "<a href=\"https://colab.research.google.com/github/mxm32/aipi561-markdown/blob/main/Colab_Markdown_Practice.ipynb\" target=\"_parent\"><img src=\"https://colab.research.google.com/assets/colab-badge.svg\" alt=\"Open In Colab\"/></a>"
      ]
    },
    {
      "cell_type": "markdown",
      "source": [
        "Jupyter Notebook Documentation Project"
      ],
      "metadata": {
        "id": "kdq1uPTPUei2"
      }
    },
    {
      "cell_type": "code",
      "source": [
        "print(\"hello world\")"
      ],
      "metadata": {
        "colab": {
          "base_uri": "https://localhost:8080/"
        },
        "id": "_rM4Nez2Ug5x",
        "outputId": "aa4ba3aa-cedd-4e7e-9aec-e8c5c70312d9"
      },
      "execution_count": null,
      "outputs": [
        {
          "output_type": "stream",
          "name": "stdout",
          "text": [
            "hello world\n"
          ]
        }
      ]
    },
    {
      "cell_type": "markdown",
      "source": [
        "# Effective Technical Discussions\n",
        "## Markdown Practice\n",
        "\n",
        "### Link Example:\n",
        "Markdown reference: [Master Markdown GitHub Guide](https://docs.github.com/en/get-started/writing-on-github/getting-started-with-writing-and-formatting-on-github/basic-writing-and-formatting-syntax)\n",
        "\n",
        "### Image Example:\n",
        "![This is an image](https://www.python.org/static/community_logos/python-logo-master-v3-TM-flattened.png)\n",
        "\n",
        "### Emojis:\n",
        "😀 💻 🤓\n"
      ],
      "metadata": {
        "id": "KfdlzeC5U0L6"
      }
    },
    {
      "cell_type": "markdown",
      "source": [
        ""
      ],
      "metadata": {
        "id": "uCZv246HUr61"
      }
    }
  ]
}